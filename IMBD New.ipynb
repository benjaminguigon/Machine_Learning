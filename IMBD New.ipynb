{
 "cells": [
  {
   "cell_type": "code",
   "execution_count": 99,
   "metadata": {
    "ExecuteTime": {
     "end_time": "2021-03-18T20:08:19.848999Z",
     "start_time": "2021-03-18T20:08:19.839746Z"
    }
   },
   "outputs": [],
   "source": [
    "import numpy as np # linear algebra\n",
    "import pandas as pd # data processing, CSV file I/O (e.g. pd.read_csv)\n",
    "import tensorflow as tf\n",
    "from tensorflow.keras.layers import Dense,Bidirectional,LSTM,Embedding,Input\n",
    "from tensorflow.keras.models import Model\n",
    "import matplotlib.pyplot as plt\n",
    "import seaborn as sns\n",
    "from wordcloud import WordCloud,STOPWORDS\n",
    "import nltk\n",
    "from sklearn.model_selection import train_test_split"
   ]
  },
  {
   "cell_type": "code",
   "execution_count": 100,
   "metadata": {
    "ExecuteTime": {
     "end_time": "2021-03-18T20:08:20.571586Z",
     "start_time": "2021-03-18T20:08:19.851350Z"
    }
   },
   "outputs": [],
   "source": [
    "df = pd.read_csv('/Users/benjamin.guigon/Desktop/PSB/Semestre 1/Python/Perso/IMDB/IMDB Dataset.csv')\n",
    "df = df.head(5000)"
   ]
  },
  {
   "cell_type": "code",
   "execution_count": 101,
   "metadata": {
    "ExecuteTime": {
     "end_time": "2021-03-18T20:08:20.584596Z",
     "start_time": "2021-03-18T20:08:20.574910Z"
    }
   },
   "outputs": [],
   "source": [
    "# Replacing Positive -> 1 and Negative -> 0\n",
    "df.replace({\"positive\":1,\"negative\":0},inplace=True)"
   ]
  },
  {
   "cell_type": "code",
   "execution_count": 102,
   "metadata": {
    "ExecuteTime": {
     "end_time": "2021-03-18T20:08:20.590394Z",
     "start_time": "2021-03-18T20:08:20.586987Z"
    }
   },
   "outputs": [],
   "source": [
    "X = df.iloc[:,0].values\n",
    "y = df.iloc[:,1].values"
   ]
  },
  {
   "cell_type": "code",
   "execution_count": 103,
   "metadata": {
    "ExecuteTime": {
     "end_time": "2021-03-18T20:08:20.751339Z",
     "start_time": "2021-03-18T20:08:20.592281Z"
    }
   },
   "outputs": [
    {
     "data": {
      "text/plain": [
       "<matplotlib.axes._subplots.AxesSubplot at 0x7fc9ea0eb190>"
      ]
     },
     "execution_count": 103,
     "metadata": {},
     "output_type": "execute_result"
    },
    {
     "data": {
      "image/png": "[encoded data removed]",
      "text/plain": [
       "<Figure size 432x288 with 1 Axes>"
      ]
     },
     "metadata": {
      "needs_background": "light"
     },
     "output_type": "display_data"
    }
   ],
   "source": [
    "# Checking Data Balance\n",
    "\n",
    "sns.countplot(x=\"sentiment\",data=df)"
   ]
  },
  {
   "cell_type": "code",
   "execution_count": 104,
   "metadata": {
    "ExecuteTime": {
     "end_time": "2021-03-18T20:08:20.826372Z",
     "start_time": "2021-03-18T20:08:20.753143Z"
    }
   },
   "outputs": [],
   "source": [
    "# Making datasets to visualise\n",
    "df[\"len\"] = np.array([len(i) for i in X])\n",
    "\n",
    "neg = df.where(df[\"sentiment\"]==0).dropna().reset_index().drop([\"index\"],axis=1)\n",
    "pos = df.where(df[\"sentiment\"]==1).dropna().reset_index().drop([\"index\"],axis=1)"
   ]
  },
  {
   "cell_type": "code",
   "execution_count": 105,
   "metadata": {
    "ExecuteTime": {
     "end_time": "2021-03-18T20:08:20.845726Z",
     "start_time": "2021-03-18T20:08:20.833377Z"
    }
   },
   "outputs": [
    {
     "data": {
      "text/html": [
       "<div>\n",
       "<style scoped>\n",
       "    .dataframe tbody tr th:only-of-type {\n",
       "        vertical-align: middle;\n",
       "    }\n",
       "\n",
       "    .dataframe tbody tr th {\n",
       "        vertical-align: top;\n",
       "    }\n",
       "\n",
       "    .dataframe thead th {\n",
       "        text-align: right;\n",
       "    }\n",
       "</style>\n",
       "<table border=\"1\" class=\"dataframe\">\n",
       "  <thead>\n",
       "    <tr style=\"text-align: right;\">\n",
       "      <th></th>\n",
       "      <th>review</th>\n",
       "      <th>sentiment</th>\n",
       "      <th>len</th>\n",
       "    </tr>\n",
       "  </thead>\n",
       "  <tbody>\n",
       "    <tr>\n",
       "      <th>0</th>\n",
       "      <td>One of the other reviewers has mentioned that ...</td>\n",
       "      <td>1</td>\n",
       "      <td>1761</td>\n",
       "    </tr>\n",
       "    <tr>\n",
       "      <th>1</th>\n",
       "      <td>A wonderful little production. &lt;br /&gt;&lt;br /&gt;The...</td>\n",
       "      <td>1</td>\n",
       "      <td>998</td>\n",
       "    </tr>\n",
       "    <tr>\n",
       "      <th>2</th>\n",
       "      <td>I thought this was a wonderful way to spend ti...</td>\n",
       "      <td>1</td>\n",
       "      <td>926</td>\n",
       "    </tr>\n",
       "    <tr>\n",
       "      <th>3</th>\n",
       "      <td>Basically there's a family where a little boy ...</td>\n",
       "      <td>0</td>\n",
       "      <td>748</td>\n",
       "    </tr>\n",
       "    <tr>\n",
       "      <th>4</th>\n",
       "      <td>Petter Mattei's \"Love in the Time of Money\" is...</td>\n",
       "      <td>1</td>\n",
       "      <td>1317</td>\n",
       "    </tr>\n",
       "    <tr>\n",
       "      <th>...</th>\n",
       "      <td>...</td>\n",
       "      <td>...</td>\n",
       "      <td>...</td>\n",
       "    </tr>\n",
       "    <tr>\n",
       "      <th>4995</th>\n",
       "      <td>An interesting slasher film with multiple susp...</td>\n",
       "      <td>0</td>\n",
       "      <td>689</td>\n",
       "    </tr>\n",
       "    <tr>\n",
       "      <th>4996</th>\n",
       "      <td>i watched this series when it first came out i...</td>\n",
       "      <td>1</td>\n",
       "      <td>1862</td>\n",
       "    </tr>\n",
       "    <tr>\n",
       "      <th>4997</th>\n",
       "      <td>Once again Jet Li brings his charismatic prese...</td>\n",
       "      <td>1</td>\n",
       "      <td>1457</td>\n",
       "    </tr>\n",
       "    <tr>\n",
       "      <th>4998</th>\n",
       "      <td>I rented this movie, after hearing Chris Gore ...</td>\n",
       "      <td>0</td>\n",
       "      <td>3424</td>\n",
       "    </tr>\n",
       "    <tr>\n",
       "      <th>4999</th>\n",
       "      <td>This was a big disappointment for me. I think ...</td>\n",
       "      <td>0</td>\n",
       "      <td>226</td>\n",
       "    </tr>\n",
       "  </tbody>\n",
       "</table>\n",
       "<p>5000 rows × 3 columns</p>\n",
       "</div>"
      ],
      "text/plain": [
       "                                                 review  sentiment   len\n",
       "0     One of the other reviewers has mentioned that ...          1  1761\n",
       "1     A wonderful little production. <br /><br />The...          1   998\n",
       "2     I thought this was a wonderful way to spend ti...          1   926\n",
       "3     Basically there's a family where a little boy ...          0   748\n",
       "4     Petter Mattei's \"Love in the Time of Money\" is...          1  1317\n",
       "...                                                 ...        ...   ...\n",
       "4995  An interesting slasher film with multiple susp...          0   689\n",
       "4996  i watched this series when it first came out i...          1  1862\n",
       "4997  Once again Jet Li brings his charismatic prese...          1  1457\n",
       "4998  I rented this movie, after hearing Chris Gore ...          0  3424\n",
       "4999  This was a big disappointment for me. I think ...          0   226\n",
       "\n",
       "[5000 rows x 3 columns]"
      ]
     },
     "execution_count": 105,
     "metadata": {},
     "output_type": "execute_result"
    }
   ],
   "source": [
    "df"
   ]
  },
  {
   "cell_type": "code",
   "execution_count": 106,
   "metadata": {
    "ExecuteTime": {
     "end_time": "2021-03-18T20:08:20.850735Z",
     "start_time": "2021-03-18T20:08:20.848030Z"
    }
   },
   "outputs": [],
   "source": [
    "STOPWORDS = list(STOPWORDS)\n",
    "STOPWORDS.append(\"br\")"
   ]
  },
  {
   "cell_type": "code",
   "execution_count": 107,
   "metadata": {
    "ExecuteTime": {
     "end_time": "2021-03-18T20:08:20.858341Z",
     "start_time": "2021-03-18T20:08:20.852479Z"
    }
   },
   "outputs": [],
   "source": [
    "# Function to plot wordcloud\n",
    "def plot_wordcloud(data):\n",
    "    words = '' \n",
    "    stopwords = set(STOPWORDS) \n",
    "    for val in data.values: \n",
    "        val = str(val) \n",
    "        tokens = val.split() \n",
    "        for i in range(len(tokens)):\n",
    "            tokens[i] = tokens[i].lower() \n",
    "\n",
    "        words += \" \".join(tokens)+\" \"\n",
    "\n",
    "    wordcloud = WordCloud(width = 800, height = 800, \n",
    "                    background_color ='white', \n",
    "                    stopwords = stopwords, \n",
    "                    min_font_size = 10).generate(words)                        \n",
    "    plt.figure(figsize = (20,16), facecolor = None) \n",
    "    plt.imshow(wordcloud) \n",
    "    plt.axis(\"off\") \n",
    "    plt.tight_layout(pad = 0)\n",
    "    plt.show()"
   ]
  },
  {
   "cell_type": "code",
   "execution_count": 108,
   "metadata": {
    "ExecuteTime": {
     "end_time": "2021-03-18T20:08:20.862400Z",
     "start_time": "2021-03-18T20:08:20.860437Z"
    }
   },
   "outputs": [],
   "source": [
    "#plot_wordcloud(pos[\"review\"])"
   ]
  },
  {
   "cell_type": "code",
   "execution_count": 109,
   "metadata": {
    "ExecuteTime": {
     "end_time": "2021-03-18T20:08:20.865958Z",
     "start_time": "2021-03-18T20:08:20.864214Z"
    }
   },
   "outputs": [],
   "source": [
    "#plot_wordcloud(neg[\"review\"])"
   ]
  },
  {
   "cell_type": "code",
   "execution_count": 117,
   "metadata": {
    "ExecuteTime": {
     "end_time": "2021-03-18T20:09:42.118676Z",
     "start_time": "2021-03-18T20:09:41.221770Z"
    }
   },
   "outputs": [],
   "source": [
    "# Creating Tokeniser\n",
    "tkn = tf.keras.preprocessing.text.Tokenizer(\n",
    "    num_words=None,\n",
    "    filters='!\"#$%&()*+,-./:;<=>?@[\\\\]^_`{|}~\\t\\n',\n",
    "    lower=True,\n",
    "    split=' ',\n",
    "    oov_token=\"{OOV}\"\n",
    ")\n",
    "# Tokenising Train Data\n",
    "tkn.fit_on_texts(X)"
   ]
  },
  {
   "cell_type": "code",
   "execution_count": 111,
   "metadata": {
    "ExecuteTime": {
     "end_time": "2021-03-18T20:08:21.739305Z",
     "start_time": "2021-03-18T20:08:21.736068Z"
    }
   },
   "outputs": [
    {
     "data": {
      "text/plain": [
       "43343"
      ]
     },
     "execution_count": 111,
     "metadata": {},
     "output_type": "execute_result"
    }
   ],
   "source": [
    "# Length Of Word Index\n",
    "len(tkn.word_index)"
   ]
  },
  {
   "cell_type": "code",
   "execution_count": 81,
   "metadata": {
    "ExecuteTime": {
     "end_time": "2021-03-18T15:59:13.779810Z",
     "start_time": "2021-03-18T15:59:13.149155Z"
    }
   },
   "outputs": [],
   "source": [
    "X = tkn.texts_to_sequences(X)\n",
    "X = tf.keras.preprocessing.sequence.pad_sequences(X,maxlen=200)"
   ]
  },
  {
   "cell_type": "code",
   "execution_count": 92,
   "metadata": {
    "ExecuteTime": {
     "end_time": "2021-03-18T16:01:04.112544Z",
     "start_time": "2021-03-18T16:01:04.103884Z"
    }
   },
   "outputs": [],
   "source": [
    "x_train, x_test, y_train, y_test = train_test_split(X, y, test_size = 0.2)"
   ]
  },
  {
   "cell_type": "code",
   "execution_count": 93,
   "metadata": {
    "ExecuteTime": {
     "end_time": "2021-03-18T16:01:04.117037Z",
     "start_time": "2021-03-18T16:01:04.114860Z"
    }
   },
   "outputs": [],
   "source": [
    "# Splitting Data into Train and [test+val]\n",
    "#x_train = X[:4000]\n",
    "#y_train = y[:4000]\n",
    "#x_val = X[4000:]\n",
    "#y_val = y[4000:]"
   ]
  },
  {
   "cell_type": "code",
   "execution_count": 94,
   "metadata": {
    "ExecuteTime": {
     "end_time": "2021-03-18T16:01:04.122117Z",
     "start_time": "2021-03-18T16:01:04.119994Z"
    }
   },
   "outputs": [],
   "source": [
    "# Splitting data into Validation and Test\n",
    "#x_test = x_val[:500]\n",
    "#y_test = y_val[:500]\n",
    "#x_val = x_val[5000:]\n",
    "#y_val = y_val[5000:]"
   ]
  },
  {
   "cell_type": "code",
   "execution_count": 95,
   "metadata": {
    "ExecuteTime": {
     "end_time": "2021-03-18T16:01:07.369410Z",
     "start_time": "2021-03-18T16:01:04.124222Z"
    }
   },
   "outputs": [
    {
     "name": "stdout",
     "output_type": "stream",
     "text": [
      "Model: \"model_5\"\n",
      "_________________________________________________________________\n",
      "Layer (type)                 Output Shape              Param #   \n",
      "=================================================================\n",
      "input_8 (InputLayer)         [(None, None)]            0         \n",
      "_________________________________________________________________\n",
      "embedding_5 (Embedding)      (None, None, 200)         8668600   \n",
      "_________________________________________________________________\n",
      "bidirectional_30 (Bidirectio (None, None, 60)          55440     \n",
      "_________________________________________________________________\n",
      "bidirectional_31 (Bidirectio (None, None, 60)          21840     \n",
      "_________________________________________________________________\n",
      "bidirectional_32 (Bidirectio (None, None, 40)          12960     \n",
      "_________________________________________________________________\n",
      "bidirectional_33 (Bidirectio (None, None, 40)          9760      \n",
      "_________________________________________________________________\n",
      "bidirectional_34 (Bidirectio (None, None, 20)          4080      \n",
      "_________________________________________________________________\n",
      "bidirectional_35 (Bidirectio (None, 20)                2480      \n",
      "_________________________________________________________________\n",
      "dense_5 (Dense)              (None, 1)                 21        \n",
      "=================================================================\n",
      "Total params: 8,775,181\n",
      "Trainable params: 8,775,181\n",
      "Non-trainable params: 0\n",
      "_________________________________________________________________\n"
     ]
    }
   ],
   "source": [
    "# Input for variable-length sequences of integers\n",
    "inputs = Input(shape=(None,), dtype=\"int32\")\n",
    "\n",
    "# Embed each integer in a 128-dimensional vector\n",
    "x = Embedding(len(tkn.word_index), 200)(inputs)\n",
    "\n",
    "# Add 2 bidirectional LSTMs\n",
    "x = Bidirectional(LSTM(30,return_sequences=True))(x)\n",
    "x = Bidirectional(LSTM(30,return_sequences=True))(x)\n",
    "x = Bidirectional(LSTM(20,return_sequences=True))(x)\n",
    "x = Bidirectional(LSTM(20,return_sequences=True))(x)\n",
    "x = Bidirectional(LSTM(10,return_sequences=True))(x)\n",
    "x = Bidirectional(LSTM(10))(x)\n",
    "\n",
    "# Add a classifier\n",
    "outputs = Dense(1, activation=\"sigmoid\")(x)\n",
    "model = Model(inputs, outputs)\n",
    "model.summary()"
   ]
  },
  {
   "cell_type": "code",
   "execution_count": 96,
   "metadata": {
    "ExecuteTime": {
     "end_time": "2021-03-18T16:02:34.148195Z",
     "start_time": "2021-03-18T16:01:07.371235Z"
    }
   },
   "outputs": [
    {
     "name": "stdout",
     "output_type": "stream",
     "text": [
      "Epoch 1/2\n",
      "125/125 [==============================] - 48s 299ms/step - loss: 0.6802 - accuracy: 0.5596\n",
      "Epoch 2/2\n",
      "125/125 [==============================] - 39s 314ms/step - loss: 0.3892 - accuracy: 0.8630\n"
     ]
    }
   ],
   "source": [
    "model.compile(\"adam\", \"binary_crossentropy\", metrics=[\"accuracy\"])\n",
    "history = model.fit(x_train, y_train, batch_size=32, epochs=2)#, validation_data=(x_val, y_val))"
   ]
  }
 ],
 "metadata": {
  "hide_input": false,
  "kernelspec": {
   "display_name": "Python 3",
   "language": "python",
   "name": "python3"
  },
  "language_info": {
   "codemirror_mode": {
    "name": "ipython",
    "version": 3
   },
   "file_extension": ".py",
   "mimetype": "text/x-python",
   "name": "python",
   "nbconvert_exporter": "python",
   "pygments_lexer": "ipython3",
   "version": "3.8.3"
  },
  "toc": {
   "base_numbering": 1,
   "nav_menu": {},
   "number_sections": true,
   "sideBar": true,
   "skip_h1_title": false,
   "title_cell": "Table of Contents",
   "title_sidebar": "Contents",
   "toc_cell": false,
   "toc_position": {},
   "toc_section_display": true,
   "toc_window_display": false
  },
  "varInspector": {
   "cols": {
    "lenName": 16,
    "lenType": 16,
    "lenVar": 40
   },
   "kernels_config": {
    "python": {
     "delete_cmd_postfix": "",
     "delete_cmd_prefix": "del ",
     "library": "var_list.py",
     "varRefreshCmd": "print(var_dic_list())"
    },
    "r": {
     "delete_cmd_postfix": ") ",
     "delete_cmd_prefix": "rm(",
     "library": "var_list.r",
     "varRefreshCmd": "cat(var_dic_list()) "
    }
   },
   "types_to_exclude": [
    "module",
    "function",
    "builtin_function_or_method",
    "instance",
    "_Feature"
   ],
   "window_display": false
  }
 },
 "nbformat": 4,
 "nbformat_minor": 4
}
